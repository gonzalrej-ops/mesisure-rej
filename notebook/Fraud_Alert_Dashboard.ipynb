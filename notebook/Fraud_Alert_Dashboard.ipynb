{
 "cells": [
  {
   "cell_type": "code",
   "execution_count": 0,
   "metadata": {
    "application/vnd.databricks.v1+cell": {
     "cellMetadata": {},
     "inputWidgets": {},
     "nuid": "d9f9c52a-33d0-4b70-b96d-c7c2c78cef22",
     "showTitle": false,
     "tableResultSettingsMap": {},
     "title": ""
    }
   },
   "outputs": [],
   "source": [
    "---1 Real-time Fraud Alerts Dashboard\n",
    "-- Create dashboard-ready view for fraud alerts\n",
    "CREATE OR REPLACE TEMPORARY VIEW real_time_fraud_alerts AS\n",
    "SELECT \n",
    "alert_timestamp,\n",
    "alert_severity,\n",
    "alert_reason,\n",
    "claim_id,\n",
    "member_id,\n",
    "provider_id,\n",
    "claim_amount,\n",
    "diagnosis_code\n",
    "FROM medisure_jen.gold.gold_fraud_alerts\n",
    "WHERE date(alert_timestamp) = current_date()\n"
   ]
  },
  {
   "cell_type": "code",
   "execution_count": 0,
   "metadata": {
    "application/vnd.databricks.v1+cell": {
     "cellMetadata": {},
     "inputWidgets": {},
     "nuid": "e5facf91-54d1-41b5-97e0-9ad900553e48",
     "showTitle": false,
     "tableResultSettingsMap": {},
     "title": ""
    }
   },
   "outputs": [],
   "source": [
    "select * real_time_fraud_alerts"
   ]
  },
  {
   "cell_type": "code",
   "execution_count": 0,
   "metadata": {
    "application/vnd.databricks.v1+cell": {
     "cellMetadata": {},
     "inputWidgets": {},
     "nuid": "f08f409f-63ff-4c5a-9ffd-623d086d386b",
     "showTitle": false,
     "tableResultSettingsMap": {},
     "title": ""
    }
   },
   "outputs": [],
   "source": []
  }
 ],
 "metadata": {
  "application/vnd.databricks.v1+notebook": {
   "computePreferences": null,
   "dashboards": [],
   "environmentMetadata": {
    "base_environment": "",
    "environment_version": "3"
   },
   "inputWidgetPreferences": null,
   "language": "sql",
   "notebookMetadata": {
    "pythonIndentUnit": 4
   },
   "notebookName": "Fraud_Alert_Dashboard",
   "widgets": {}
  },
  "language_info": {
   "name": "sql"
  }
 },
 "nbformat": 4,
 "nbformat_minor": 0
}
