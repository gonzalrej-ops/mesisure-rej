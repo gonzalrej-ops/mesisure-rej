{
 "cells": [
  {
   "cell_type": "code",
   "execution_count": 0,
   "metadata": {
    "application/vnd.databricks.v1+cell": {
     "cellMetadata": {},
     "inputWidgets": {},
     "nuid": "dcaef644-0437-44da-b5b9-7044a8bf8350",
     "showTitle": false,
     "tableResultSettingsMap": {},
     "title": ""
    }
   },
   "outputs": [],
   "source": [
    "# Notebook Name: 02_streaming_data\n",
    "# Purpose: Start a long-running streaming job to ingest data from the landing zone using Auto Loader.\n",
    "#          This notebook should be run once and left running continuously.\n",
    "\n",
    "# Source path in DBFS (where the ingestion notebook drops claims_stream.json)\n",
    "source_autoloader_path = \"dbfs:/tmp/medisure_jen/autoloader_landing/claims_stream.json\"\n",
    "\n",
    "# Checkpoint location for the stream (crucial for fault tolerance)\n",
    "checkpoint_path = \"dbfs:/tmp/medisure_poc/checkpoints/claims_bronze_stream/\"\n",
    "\n",
    "# Target Bronze Delta table\n",
    "target_bronze_table = \"catalog_jen.medisure_jen.bronze.claims_streaming\"\n",
    "\n",
    "# Step 2:Read the stream using Auto Loader pattern\n",
    "streaming_df = (spark.readStream\n",
    "    .format(\"cloudFiles\")  # Use Auto Loader\n",
    "    .option(\"cloudFiles.format\", \"json\")  # Specify format\n",
    "    .option(\"cloudFiles.schemaLocation\", checkpoint_path)  # Schema evolution tracking\n",
    "    .option(\"multiLine\", \"true\")  # Important for JSON\n",
    "    .option(\"escape\", '\"')\n",
    "    .load(source_autoloader_path)\n",
    ")\n",
    "\n",
    "# Add metadata columns\n",
    "from pyspark.sql.functions import current_timestamp, input_file_name\n",
    "streaming_df_with_metadata = streaming_df.withColumn(\"_source_file\", input_file_name()) \\\n",
    "                                         .withColumn(\"_ingestion_timestamp\", current_timestamp())\n",
    "# Step 3: Start the Stream and Write to Delta Table\n",
    "# Start the streaming query\n",
    "streaming_query = (streaming_df_with_metadata.writeStream\n",
    "    .format(\"delta\")\n",
    "    .outputMode(\"append\")  # Only append for Bronze layer\n",
    "    .option(\"checkpointLocation\", checkpoint_path)  # Exactly-once guarantee\n",
    "    .option(\"mergeSchema\", \"true\")  # Handle schema changes\n",
    "    .queryName(\"claims_stream_ingestion_query\")\n",
    "    .toTable(target_bronze_table)\n",
    ")\n",
    "\n",
    "display(streaming_query)\n",
    "\n",
    "# Wait for the termination of the query. This blocks the notebook cell, keeping the stream alive.\n",
    "# The stream will run until you manually stop it or an error occurs.\n",
    "streaming_query.awaitTermination()\n",
    "\n",
    "# If you need to stop the stream manually, you can run this command in a separate cell.\n",
    "# streaming_query.stop()"
   ]
  }
 ],
 "metadata": {
  "application/vnd.databricks.v1+notebook": {
   "computePreferences": null,
   "dashboards": [],
   "environmentMetadata": {
    "base_environment": "",
    "environment_version": "3"
   },
   "inputWidgetPreferences": null,
   "language": "python",
   "notebookMetadata": {
    "pythonIndentUnit": 4
   },
   "notebookName": "02_streaming_data",
   "widgets": {}
  },
  "language_info": {
   "name": "python"
  }
 },
 "nbformat": 4,
 "nbformat_minor": 0
}
