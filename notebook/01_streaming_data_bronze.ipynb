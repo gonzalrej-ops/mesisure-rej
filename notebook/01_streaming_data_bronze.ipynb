{
 "cells": [
  {
   "cell_type": "code",
   "execution_count": 0,
   "metadata": {
    "application/vnd.databricks.v1+cell": {
     "cellMetadata": {
      "byteLimit": 2048000,
      "rowLimit": 10000
     },
     "inputWidgets": {},
     "nuid": "dcaef644-0437-44da-b5b9-7044a8bf8350",
     "showTitle": false,
     "tableResultSettingsMap": {},
     "title": ""
    }
   },
   "outputs": [],
   "source": [
    "# Source path\n",
    "source_autoloader_path = \"/Volumes/medisure_jen/bronze/autoloader_landing/\"\n",
    "\n",
    "# Checkpoint location\n",
    "checkpoint_path = \"/Volumes/medisure_jen/bronze/checkpoints/claims_bronze_stream/\"\n",
    "\n",
    "# Target Bronze Delta table\n",
    "target_bronze_table = \"medisure_jen.bronze.claims_stream\"\n",
    "\n",
    "# Step 2: Read the stream using Auto Loader pattern\n",
    "streaming_df = (spark.readStream\n",
    "    .format(\"cloudFiles\")  # Use Auto Loader\n",
    "    .option(\"cloudFiles.format\", \"json\")  # Specify format\n",
    "    .option(\"cloudFiles.schemaLocation\", checkpoint_path)  # Schema evolution tracking\n",
    "    .option(\"multiLine\", \"true\")  # Important for JSON\n",
    "    .option(\"escape\", '\"')\n",
    "    .load(source_autoloader_path)\n",
    ")\n",
    "\n",
    "# Add metadata columns - USE UC-COMPATIBLE METHOD\n",
    "from pyspark.sql.functions import current_timestamp, col\n",
    "streaming_df_with_metadata = (streaming_df\n",
    "    .withColumn(\"_source_file\", col(\"_metadata.file_path\"))  # UC-compatible file path\n",
    "    .withColumn(\"_ingestion_timestamp\", current_timestamp())\n",
    ")\n",
    "\n",
    "# Step 3: Start the Stream with AvailableNow trigger\n",
    "streaming_query = (streaming_df_with_metadata.writeStream\n",
    "    .format(\"delta\")\n",
    "    .outputMode(\"append\")  # Only append for Bronze layer\n",
    "    .option(\"checkpointLocation\", checkpoint_path)  # Exactly-once guarantee\n",
    "    .option(\"mergeSchema\", \"true\")  # Handle schema changes\n",
    "    .queryName(\"claims_stream_ingestion_query\")\n",
    "    .trigger(once=True)  # Use AvailableNow trigger (processed as micro-batch)-adding this as im currently using serverless continues stream is not supported in a server less account \n",
    "    .toTable(target_bronze_table)\n",
    ")\n",
    "\n",
    "\n",
    "display(streaming_query)\n",
    "\n",
    "# Wait for the termination of the query. This blocks the notebook cell, keeping the stream alive.\n",
    "# The stream will run until you manually stop it or an error occurs.\n",
    "streaming_query.awaitTermination()\n",
    "\n",
    "# If you need to stop the stream manually, you can run this command in a separate cell.\n",
    "# streaming_query.stop()"
   ]
  },
  {
   "cell_type": "code",
   "execution_count": 0,
   "metadata": {
    "application/vnd.databricks.v1+cell": {
     "cellMetadata": {},
     "inputWidgets": {},
     "nuid": "eaeef44f-c59e-449e-8c46-397be5a17e29",
     "showTitle": false,
     "tableResultSettingsMap": {},
     "title": ""
    }
   },
   "outputs": [],
   "source": []
  }
 ],
 "metadata": {
  "application/vnd.databricks.v1+notebook": {
   "computePreferences": null,
   "dashboards": [],
   "environmentMetadata": {
    "base_environment": "",
    "environment_version": "3"
   },
   "inputWidgetPreferences": null,
   "language": "python",
   "notebookMetadata": {
    "pythonIndentUnit": 4
   },
   "notebookName": "01_streaming_data_bronze",
   "widgets": {}
  },
  "language_info": {
   "name": "python"
  }
 },
 "nbformat": 4,
 "nbformat_minor": 0
}
