{
 "cells": [
  {
   "cell_type": "code",
   "execution_count": 0,
   "metadata": {
    "application/vnd.databricks.v1+cell": {
     "cellMetadata": {
      "byteLimit": 2048000,
      "rowLimit": 10000
     },
     "inputWidgets": {},
     "nuid": "e81ac8e2-b30d-4252-ad11-bdbc2f6901cc",
     "showTitle": false,
     "tableResultSettingsMap": {},
     "title": ""
    }
   },
   "outputs": [],
   "source": [
    "# Create a managed volume\n",
    "#spark.sql(\"CREATE VOLUME medisure_jen.bronze.landing_zone\")\n",
    "\n",
    "# Create a landing zone directory if it doesn't exist\n",
    "#dbutils.fs.mkdirs(\"/Volumes/medisure_jen/bronze/landing_zone/\")"
   ]
  },
  {
   "cell_type": "markdown",
   "metadata": {
    "application/vnd.databricks.v1+cell": {
     "cellMetadata": {},
     "inputWidgets": {},
     "nuid": "d7ffb728-1efb-44a6-a341-bd60dadd1e6c",
     "showTitle": false,
     "tableResultSettingsMap": {},
     "title": ""
    }
   },
   "source": [
    "### **Handle Batch processing**"
   ]
  },
  {
   "cell_type": "code",
   "execution_count": 0,
   "metadata": {
    "application/vnd.databricks.v1+cell": {
     "cellMetadata": {
      "byteLimit": 2048000,
      "rowLimit": 10000
     },
     "inputWidgets": {},
     "nuid": "8e6b493b-8a60-4d7a-bd79-60a839068cfc",
     "showTitle": false,
     "tableResultSettingsMap": {},
     "title": ""
    }
   },
   "outputs": [],
   "source": [
    "\n",
    "# Define the source path for BATCH files\n",
    "source_data_path = \"/Volumes/medisure_jen/bronze/landing_zone/\"\n",
    "\n",
    "# List all files in the directory\n",
    "file_list = dbutils.fs.ls(source_data_path)\n",
    "\n",
    "# Filter out the streaming file - we will process it separately!\n",
    "batch_files = [f for f in file_list if \"claims_stream.json\" not in f.name]\n",
    "\n",
    "print(\"Processing BATCH files found in landing zone:\")\n",
    "for file_info in batch_files:\n",
    "    print(f\" - {file_info.name}\")\n",
    "\n",
    "for file_info in batch_files:\n",
    "    file_path = file_info.path\n",
    "    file_name = file_info.name\n",
    "    base_table_name = file_name.split('.')[0]\n",
    "    \n",
    "    print(f\"\\nStarting BATCH ingestion for: {file_name}\")\n",
    "    \n",
    "    # Determine the file format and set read options accordingly\n",
    "    if file_name.endswith('.csv'):\n",
    "        df = (spark.read\n",
    "              .format(\"csv\")\n",
    "              .option(\"header\", \"true\")\n",
    "              .option(\"inferSchema\", \"true\")\n",
    "              .option(\"escape\", '\"')\n",
    "              .option(\"quote\", '\"')\n",
    "              .load(file_path)\n",
    "             )\n",
    "        \n",
    "    elif file_name.endswith('.json'):\n",
    "        df = (spark.read\n",
    "              .format(\"json\")\n",
    "              .option(\"multiLine\", \"true\")\n",
    "              .option(\"escape\", '\"')\n",
    "              .load(file_path)\n",
    "             )\n",
    "    else:\n",
    "        print(f\"Unsupported file format for {file_name}. Skipping.\")\n",
    "        continue\n",
    "\n",
    "    # Add metadata columns\n",
    "    from pyspark.sql.functions import current_timestamp, input_file_name\n",
    "    df_with_metadata = df.withColumn(\"_source_file\", input_file_name()) \\\n",
    "                         .withColumn(\"_ingestion_timestamp\", current_timestamp())\n",
    "    \n",
    "    full_target_table_name = f\"medisure_jen.bronze.{base_table_name}\"\n",
    "    \n",
    "    # Write the DataFrame to the Bronze Delta Table\n",
    "    # Use 'overwrite' for initial load. For ongoing, consider 'append' with merge/duplicate handling.\n",
    "    (df_with_metadata.write\n",
    "     .format(\"delta\")\n",
    "     .mode(\"overwrite\") \n",
    "     .option(\"overwriteSchema\", \"true\")\n",
    "     .saveAsTable(full_target_table_name)\n",
    "    )\n",
    "    \n",
    "    print(f\"Successfully ingested {file_name} into Delta table: {full_target_table_name}\")\n",
    "    print(f\"Number of records written: {df.count()}\")\n",
    "\n",
    "print(\"\\nAll BATCH files processed.\")"
   ]
  }
 ],
 "metadata": {
  "application/vnd.databricks.v1+notebook": {
   "computePreferences": null,
   "dashboards": [],
   "environmentMetadata": {
    "base_environment": "",
    "environment_version": "3"
   },
   "inputWidgetPreferences": null,
   "language": "python",
   "notebookMetadata": {
    "pythonIndentUnit": 4
   },
   "notebookName": "01_bronze_ingestion_batch_processing",
   "widgets": {}
  },
  "language_info": {
   "name": "python"
  }
 },
 "nbformat": 4,
 "nbformat_minor": 0
}
