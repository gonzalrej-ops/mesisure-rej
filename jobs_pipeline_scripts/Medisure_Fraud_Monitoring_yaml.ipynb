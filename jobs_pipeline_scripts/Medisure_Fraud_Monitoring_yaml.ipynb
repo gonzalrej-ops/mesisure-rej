{
 "cells": [
  {
   "cell_type": "code",
   "execution_count": 0,
   "metadata": {
    "application/vnd.databricks.v1+cell": {
     "cellMetadata": {},
     "inputWidgets": {},
     "nuid": "17f2e274-3f9d-4753-8f3f-51b482e295ee",
     "showTitle": false,
     "tableResultSettingsMap": {},
     "title": ""
    }
   },
   "outputs": [],
   "source": [
    "resources:\n",
    "  jobs:\n",
    "    Medisure_Fraud_Monitoring:\n",
    "      name: Medisure_Fraud_Monitoring\n",
    "      email_notifications:\n",
    "        on_start:\n",
    "          - icon.montalbar@gmail.com\n",
    "        on_success:\n",
    "          - icon.montalbar@gmail.com\n",
    "        on_failure:\n",
    "          - icon.montalbar@gmail.com\n",
    "      trigger:\n",
    "        pause_status: PAUSED\n",
    "        periodic:\n",
    "          interval: 1\n",
    "          unit: HOURS\n",
    "      tasks:\n",
    "        - task_key: 01_fraud_detection\n",
    "          notebook_task:\n",
    "            notebook_path: /Repos/icon.montalbar@gmail.com/medisure_jen/notebook/01_fraud_detection\n",
    "            source: WORKSPACE\n",
    "        - task_key: 02_ml_anomaly_detection\n",
    "          depends_on:\n",
    "            - task_key: 01_fraud_detection\n",
    "          notebook_task:\n",
    "            notebook_path: /Repos/icon.montalbar@gmail.com/medisure_jen/notebook/02_fraud_ML_anomaly_detection\n",
    "            source: WORKSPACE\n",
    "        - task_key: 03_fraud_conditional_routing\n",
    "          depends_on:\n",
    "            - task_key: 02_ml_anomaly_detection\n",
    "          notebook_task:\n",
    "            notebook_path: /Repos/icon.montalbar@gmail.com/medisure_jen/notebook/03_fraud_conditional_routing\n",
    "            source: WORKSPACE\n",
    "        - task_key: alert_generation\n",
    "          depends_on:\n",
    "            - task_key: 03_fraud_conditional_routing\n",
    "          run_if: AT_LEAST_ONE_SUCCESS\n",
    "          condition_task:\n",
    "            op: EQUAL_TO\n",
    "            left: \"{{tasks.03_fraud_conditional_routing.values.has_fraud}}\"\n",
    "            right: \"true\"\n",
    "        - task_key: 04_alert_generation\n",
    "          depends_on:\n",
    "            - task_key: alert_generation\n",
    "              outcome: \"true\"\n",
    "          notebook_task:\n",
    "            notebook_path: /Repos/icon.montalbar@gmail.com/medisure_jen/notebook/04_fraud_alert_generation\n",
    "            source: WORKSPACE\n",
    "        - task_key: alert_false_no_fraud\n",
    "          depends_on:\n",
    "            - task_key: alert_generation\n",
    "              outcome: \"false\"\n",
    "          notebook_task:\n",
    "            notebook_path: /Repos/icon.montalbar@gmail.com/medisure_jen/notebook/04_fraud_alert_generation\n",
    "            source: WORKSPACE\n",
    "        - task_key: 05_compliance_reporting\n",
    "          depends_on:\n",
    "            - task_key: 04_alert_generation\n",
    "            - task_key: alert_false_no_fraud\n",
    "          run_if: AT_LEAST_ONE_SUCCESS\n",
    "          notebook_task:\n",
    "            notebook_path: /Repos/icon.montalbar@gmail.com/medisure_jen/notebook/05_fraud_compliance_reporting\n",
    "            source: WORKSPACE\n",
    "        - task_key: 06_audit_logging\n",
    "          depends_on:\n",
    "            - task_key: 05_compliance_reporting\n",
    "          notebook_task:\n",
    "            notebook_path: /Repos/icon.montalbar@gmail.com/medisure_jen/notebook/06_fraud_audit_logging\n",
    "            source: WORKSPACE\n",
    "      queue:\n",
    "        enabled: true\n",
    "      performance_target: STANDARD\n"
   ]
  }
 ],
 "metadata": {
  "application/vnd.databricks.v1+notebook": {
   "computePreferences": null,
   "dashboards": [],
   "environmentMetadata": {
    "base_environment": "",
    "environment_version": "3"
   },
   "inputWidgetPreferences": null,
   "language": "python",
   "notebookMetadata": {
    "pythonIndentUnit": 4
   },
   "notebookName": "Medisure_Fraud_Monitoring_yaml",
   "widgets": {}
  },
  "language_info": {
   "name": "python"
  }
 },
 "nbformat": 4,
 "nbformat_minor": 0
}
