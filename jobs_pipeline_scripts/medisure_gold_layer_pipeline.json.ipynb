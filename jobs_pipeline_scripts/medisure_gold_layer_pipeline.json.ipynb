{
 "cells": [
  {
   "cell_type": "code",
   "execution_count": 0,
   "metadata": {
    "application/vnd.databricks.v1+cell": {
     "cellMetadata": {},
     "inputWidgets": {},
     "nuid": "17a20589-d1c0-48ae-b2c1-abe7527b8717",
     "showTitle": false,
     "tableResultSettingsMap": {},
     "title": ""
    }
   },
   "outputs": [],
   "source": [
    "{\n",
    "  \"id\": \"c7ec8af0-13a1-4d5c-bab8-7ecf612afed1\",\n",
    "  \"pipeline_type\": \"WORKSPACE\",\n",
    "  \"name\": \"medisure_gold_layer\",\n",
    "  \"libraries\": [\n",
    "    {\n",
    "      \"glob\": {\n",
    "        \"include\": \"/Repos/icon.montalbar@gmail.com/medisure_jen/pipeline/03_gold_layer_ingestion\"\n",
    "      }\n",
    "    }\n",
    "  ],\n",
    "  \"schema\": \"gold\",\n",
    "  \"continuous\": false,\n",
    "  \"development\": false,\n",
    "  \"photon\": true,\n",
    "  \"channel\": \"CURRENT\",\n",
    "  \"catalog\": \"medisure_jen\",\n",
    "  \"serverless\": true,\n",
    "  \"root_path\": \"/Repos/icon.montalbar@gmail.com/medisure_jen/transformations\"\n",
    "}"
   ]
  }
 ],
 "metadata": {
  "application/vnd.databricks.v1+notebook": {
   "computePreferences": null,
   "dashboards": [],
   "environmentMetadata": {
    "base_environment": "",
    "environment_version": "3"
   },
   "inputWidgetPreferences": null,
   "language": "sql",
   "notebookMetadata": {
    "pythonIndentUnit": 4
   },
   "notebookName": "medisure_gold_layer_pipeline.json",
   "widgets": {}
  },
  "language_info": {
   "name": "sql"
  }
 },
 "nbformat": 4,
 "nbformat_minor": 0
}
