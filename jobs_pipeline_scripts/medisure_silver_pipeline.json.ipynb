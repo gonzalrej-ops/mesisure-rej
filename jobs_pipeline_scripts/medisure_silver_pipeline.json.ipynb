{
 "cells": [
  {
   "cell_type": "code",
   "execution_count": 0,
   "metadata": {
    "application/vnd.databricks.v1+cell": {
     "cellMetadata": {},
     "inputWidgets": {},
     "nuid": "51eacb51-73f1-486f-bce2-580dd1a35ee7",
     "showTitle": false,
     "tableResultSettingsMap": {},
     "title": ""
    }
   },
   "outputs": [],
   "source": [
    "{\n",
    "    \"id\": \"5b654246-e4fa-45d0-81c3-f58d8c929d08\",\n",
    "    \"pipeline_type\": \"WORKSPACE\",\n",
    "    \"development\": true,\n",
    "    \"continuous\": false,\n",
    "    \"channel\": \"PREVIEW\",\n",
    "    \"photon\": true,\n",
    "    \"libraries\": [\n",
    "        {\n",
    "            \"notebook\": {\n",
    "                \"path\": \"/Repos/icon.montalbar@gmail.com/medisure_jen/pipeline/02_dlt_pipelines_silver_ingestions\"\n",
    "            }\n",
    "        }\n",
    "    ],\n",
    "    \"name\": \"medisure_silver_pipeline\",\n",
    "    \"serverless\": true,\n",
    "    \"catalog\": \"medisure_jen\",\n",
    "    \"schema\": \"silver\"\n",
    "}"
   ]
  }
 ],
 "metadata": {
  "application/vnd.databricks.v1+notebook": {
   "computePreferences": null,
   "dashboards": [],
   "environmentMetadata": {
    "base_environment": "",
    "environment_version": "3"
   },
   "inputWidgetPreferences": null,
   "language": "sql",
   "notebookMetadata": {
    "pythonIndentUnit": 4
   },
   "notebookName": "medisure_silver_pipeline.json",
   "widgets": {}
  },
  "language_info": {
   "name": "sql"
  }
 },
 "nbformat": 4,
 "nbformat_minor": 0
}
